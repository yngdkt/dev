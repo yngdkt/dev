{
 "cells": [
  {
   "cell_type": "code",
   "execution_count": 2,
   "id": "d3958540",
   "metadata": {},
   "outputs": [],
   "source": [
    "from urllib import request\n",
    "from bs4 import BeautifulSoup"
   ]
  },
  {
   "cell_type": "code",
   "execution_count": 28,
   "id": "8af7aa03",
   "metadata": {
    "scrolled": true
   },
   "outputs": [
    {
     "name": "stdout",
     "output_type": "stream",
     "text": [
      "<!DOCTYPE html PUBLIC \"-//W3C//DTD XHTML 1.0 Transitional//EN\" \"http://www.w3.org/TR/xhtml1/DTD/xhtml1-transitional.dtd\">\n",
      "\n",
      "<html dir=\"ltr\" lang=\"ja\" xml:lang=\"ja\" xmlns=\"http://www.w3.org/1999/xhtml\" xmlns:fb=\"http://www.facebook.com/2008/fbml\" xmlns:gr=\"http://gree.jp/ns\" xmlns:mixi=\"http://mixi-platform.com/ns#\" xmlns:og=\"http://ogp.me/ns#\">\n",
      "<head>\n",
      "<meta content=\"text/html; charset=utf-8\" http-equiv=\"Content-Type\"/>\n",
      "<meta content=\"text/css\" http-equiv=\"Content-Style-Type\"/>\n",
      "<meta content=\"text/javascript\" http-equiv=\"Content-Script-Type\"/>\n",
      "<meta content=\"楽天証券株式会社\" name=\"author\"/>\n",
      "<meta content=\"index, follow\" name=\"robots\"/>\n",
      "<meta content=\"業種分類データ,カテゴリ,詳細分類,東洋経済,楽天証券\" name=\"keywords\"/>\n",
      "<meta content=\"業種分類スクリーニングは、約480業種と極めて詳細なカテゴリのもと、最大収益事業を基準に分類しているため、より実勢に沿ったカテゴリ検索ができます。\" name=\"description\"/>\n",
      "<meta content=\"Rakuten Securities, Inc. All Rights Reserved.\" name=\"copyright\"/>\n",
      "<title>業種検索 | マーケット情報 | 楽天証券</title>\n",
      "<!-- og -->\n",
      "<meta content=\"業種分類スクリーニング（東洋経済新報社提供）:楽天証券\" property=\"og:title\"/>\n",
      "<meta content=\"業種分類スクリーニングは、約480業種と極めて詳細なカテゴリのもと、最大収益事業を基準に分類しているため、より実勢に沿ったカテゴリ検索ができます。\" property=\"og:description\"/>\n",
      "<meta content=\"https://www.rakuten-sec.co.jp/web/shared/images/og-image.gif\" property=\"og:image\"/>\n",
      "<meta content=\"https://www.rakuten-sec.co.jp/web/market/category/\" property=\"og:url\"/>\n",
      "<meta content=\"aritcle\" property=\"og:type\"/>\n",
      "<meta content=\"楽天証券\" property=\"og:site_name\"/>\n",
      "<meta content=\"1260619238\" property=\"fb:admins\"/>\n",
      "<!-- /og -->\n",
      "<link href=\"/\" rel=\"start\" type=\"text/html\"/>\n",
      "<link href=\"/web/shared/css/import.css\" media=\"screen, print\" rel=\"stylesheet\" type=\"text/css\"/>\n",
      "<link href=\"/web/shared/css/font-m.css\" media=\"screen\" rel=\"stylesheet\" title=\"font-m\" type=\"text/css\"/>\n",
      "<link href=\"/web/shared/css/font-s.css\" media=\"screen\" rel=\"alternate stylesheet\" title=\"font-s\" type=\"text/css\"/>\n",
      "<link href=\"/web/shared/css/font-l.css\" media=\"screen\" rel=\"alternate stylesheet\" title=\"font-l\" type=\"text/css\"/>\n",
      "<link href=\"/web/shared/css/import-print.css\" media=\"print\" rel=\"stylesheet\" type=\"text/css\"/>\n",
      "<script src=\"/web/shared/js/jquery.js\" type=\"text/javascript\"></script>\n",
      "<script src=\"/web/shared/js/jquery.cookie.js\" type=\"text/javascript\"></script>\n",
      "<script src=\"/web/shared/js/run.js\" type=\"text/javascript\"></script>\n",
      "</head>\n",
      "<body class=\"lyt-column-ms-01\">\n",
      "<div id=\"str-container\">\n",
      "<!-- ============ヘッダ============ -->\n",
      "<!--#include virtual=\"/web/shared/include/grpheader/grpheader.html\" -->\n",
      "<!-- ============/ヘッダ============ -->\n",
      "<!-- ============グローバルナビゲーション============ -->\n",
      "<!--#include virtual=\"/web/shared/include/nav-global/market.html\" -->\n",
      "<!-- ============/グローバルナビゲーション============ -->\n",
      "<!-- ============検索エリア============ -->\n",
      "<!--#include virtual=\"/web/shared/include/str-search/str-search.html\" -->\n",
      "<!-- ============/検索エリア============ -->\n",
      "<div id=\"str-contents\">\n",
      "<dl id=\"topic-path\">\n",
      "<dt>現在地</dt>\n",
      "<dd><a href=\"https://www.rakuten-sec.co.jp/\">ホーム</a> &gt; <a href=\"/web/market/\">マーケット情報</a> &gt; 業種分類スクリーニング</dd>\n",
      "</dl>\n",
      "<div id=\"str-contents-inner\">\n",
      "<div id=\"str-main\">\n",
      "<div class=\"hdg-l1-01-container\">\n",
      "<h1 class=\"hdg-l1-01\"><span>業種分類スクリーニング（東洋経済新報社提供）</span></h1>\n",
      "</div><!-- /.hdg-l1-01-container -->\n",
      "<div class=\"lyt-image image-col1-full\">\n",
      "<p class=\"image\"><img alt=\"業種分類スクリーニング\" height=\"120\" src=\"/web/market/category/images/index-main.jpg\" width=\"755\"/></p>\n",
      "</div><!-- /.lyt-image -->\n",
      "<p>証券取引所が定める業種分類（33業種）と比べて、東洋経済の業種分類データは、約480業種と極めて詳細なカテゴリのもと、最大収益事業を基準に分類しているため、より実勢に沿ったカテゴリ検索ができます。トレンドやテーマに関連した銘柄をスピーディーにチェック！</p>\n",
      "<!-- new category major list start --><h2 class=\"hdg-l2-03\"><span>素材・資源</span></h2><ul class=\"list-link-01 list-col2\"><li><a href=\"/web/market/category/1010.html\">燃料・資源</a></li><li><a href=\"/web/market/category/1020.html\">化学</a></li><li><a href=\"/web/market/category/1030.html\">金属系素材</a></li><li><a href=\"/web/market/category/1040.html\">紙・パルプ製品・他素材</a></li></ul><h2 class=\"hdg-l2-03\"><span>産業インフラ・サービス</span></h2><ul class=\"list-link-01 list-col2\"><li><a href=\"/web/market/category/2010.html\">建設関連製品・設備</a></li><li><a href=\"/web/market/category/2020.html\">建設・不動産</a></li><li><a href=\"/web/market/category/2030.html\">機械・装置</a></li><li><a href=\"/web/market/category/2040.html\">総合商社</a></li><li><a href=\"/web/market/category/2060.html\">他産業サービス・製品</a></li></ul><h2 class=\"hdg-l2-03\"><span>運輸・公共</span></h2><ul class=\"list-link-01 list-col2\"><li><a href=\"/web/market/category/3010.html\">運輸</a></li><li><a href=\"/web/market/category/3020.html\">公共</a></li></ul><h2 class=\"hdg-l2-03\"><span>自動車・住宅</span></h2><ul class=\"list-link-01 list-col2\"><li><a href=\"/web/market/category/4010.html\">自動車</a></li><li><a href=\"/web/market/category/4020.html\">住宅</a></li></ul><h2 class=\"hdg-l2-03\"><span>消費財・小売り</span></h2><ul class=\"list-link-01 list-col2\"><li><a href=\"/web/market/category/5010.html\">アパレル・娯楽用品</a></li><li><a href=\"/web/market/category/5020.html\">小売り</a></li><li><a href=\"/web/market/category/5030.html\">外食・娯楽サービス</a></li><li><a href=\"/web/market/category/5040.html\">他個人サービス・製品</a></li></ul><h2 class=\"hdg-l2-03\"><span>生活必需品・ヘルスケア</span></h2><ul class=\"list-link-01 list-col2\"><li><a href=\"/web/market/category/6010.html\">ヘルスケア・医薬</a></li><li><a href=\"/web/market/category/6020.html\">食品</a></li><li><a href=\"/web/market/category/6030.html\">トイレタリー・化粧品</a></li></ul><h2 class=\"hdg-l2-03\"><span>金融サービス</span></h2><ul class=\"list-link-01 list-col2\"><li><a href=\"/web/market/category/7010.html\">銀行</a></li><li><a href=\"/web/market/category/7020.html\">証券・先物</a></li><li><a href=\"/web/market/category/7030.html\">リース・消費者金融</a></li><li><a href=\"/web/market/category/7040.html\">保険</a></li><li><a href=\"/web/market/category/7050.html\">金融サービス</a></li></ul><h2 class=\"hdg-l2-03\"><span>エレクトロニクス・情報通信</span></h2><ul class=\"list-link-01 list-col2\"><li><a href=\"/web/market/category/8010.html\">エレクトロニクス</a></li><li><a href=\"/web/market/category/8020.html\">事務機器</a></li><li><a href=\"/web/market/category/8030.html\">電子デバイス製造装置</a></li><li><a href=\"/web/market/category/8040.html\">ソフトウエア・情報技術</a></li><li><a href=\"/web/market/category/8050.html\">通信サービス</a></li><li><a href=\"/web/market/category/8060.html\">メディア</a></li></ul><!-- new category major list end -->\n",
      "</div><!-- /#str-main -->\n",
      "</div><!-- /#str-contents-inner -->\n",
      "<div id=\"str-sub-common\">\n",
      "<!--#include virtual=\"/web/shared/include/str-sub-common/str-sub-common-03.html\" -->\n",
      "</div><!-- /#str-sub-common -->\n",
      "</div><!-- /#str-contents -->\n",
      "<!-- ============フッタ============ -->\n",
      "<!--#include virtual=\"/web/shared/include/str-footer/str-footer.html\" -->\n",
      "<!-- ============/フッタ============ -->\n",
      "</div><!-- /#str-container -->\n",
      "<!-- ============ログ解析============ -->\n",
      "<!--#include virtual=\"/web/shared/include/analysis/analysis-sitecatalyst.html\" -->\n",
      "<!--#include virtual=\"/web/shared/include/analysis/analysis-mebius.html\" -->\n",
      "<!-- ============/ログ解析============ -->\n",
      "</body>\n",
      "</html>\n",
      "\n"
     ]
    }
   ],
   "source": [
    "url = \"https://member.rakuten-sec.co.jp/web/market/category\"\n",
    "response = request.urlopen(url)\n",
    "soup = BeautifulSoup(response)\n",
    "response.close()\n",
    "\n",
    "print(soup)"
   ]
  },
  {
   "cell_type": "code",
   "execution_count": 6,
   "id": "3099fc5e",
   "metadata": {},
   "outputs": [
    {
     "data": {
      "text/plain": [
       "[<h2 class=\"hdg-l2-03\"><span>素材・資源</span></h2>,\n",
       " <h2 class=\"hdg-l2-03\"><span>産業インフラ・サービス</span></h2>,\n",
       " <h2 class=\"hdg-l2-03\"><span>運輸・公共</span></h2>,\n",
       " <h2 class=\"hdg-l2-03\"><span>自動車・住宅</span></h2>,\n",
       " <h2 class=\"hdg-l2-03\"><span>消費財・小売り</span></h2>,\n",
       " <h2 class=\"hdg-l2-03\"><span>生活必需品・ヘルスケア</span></h2>,\n",
       " <h2 class=\"hdg-l2-03\"><span>金融サービス</span></h2>,\n",
       " <h2 class=\"hdg-l2-03\"><span>エレクトロニクス・情報通信</span></h2>]"
      ]
     },
     "execution_count": 6,
     "metadata": {},
     "output_type": "execute_result"
    }
   ],
   "source": [
    "soup.find_all(\"h2\")"
   ]
  },
  {
   "cell_type": "code",
   "execution_count": 19,
   "id": "bbb611f8",
   "metadata": {},
   "outputs": [
    {
     "data": {
      "text/plain": [
       "[<li><a href=\"/web/market/category/1010.html\">燃料・資源</a></li>,\n",
       " <li><a href=\"/web/market/category/1020.html\">化学</a></li>,\n",
       " <li><a href=\"/web/market/category/1030.html\">金属系素材</a></li>,\n",
       " <li><a href=\"/web/market/category/1040.html\">紙・パルプ製品・他素材</a></li>,\n",
       " <li><a href=\"/web/market/category/2010.html\">建設関連製品・設備</a></li>,\n",
       " <li><a href=\"/web/market/category/2020.html\">建設・不動産</a></li>,\n",
       " <li><a href=\"/web/market/category/2030.html\">機械・装置</a></li>,\n",
       " <li><a href=\"/web/market/category/2040.html\">総合商社</a></li>,\n",
       " <li><a href=\"/web/market/category/2060.html\">他産業サービス・製品</a></li>,\n",
       " <li><a href=\"/web/market/category/3010.html\">運輸</a></li>,\n",
       " <li><a href=\"/web/market/category/3020.html\">公共</a></li>,\n",
       " <li><a href=\"/web/market/category/4010.html\">自動車</a></li>,\n",
       " <li><a href=\"/web/market/category/4020.html\">住宅</a></li>,\n",
       " <li><a href=\"/web/market/category/5010.html\">アパレル・娯楽用品</a></li>,\n",
       " <li><a href=\"/web/market/category/5020.html\">小売り</a></li>,\n",
       " <li><a href=\"/web/market/category/5030.html\">外食・娯楽サービス</a></li>,\n",
       " <li><a href=\"/web/market/category/5040.html\">他個人サービス・製品</a></li>,\n",
       " <li><a href=\"/web/market/category/6010.html\">ヘルスケア・医薬</a></li>,\n",
       " <li><a href=\"/web/market/category/6020.html\">食品</a></li>,\n",
       " <li><a href=\"/web/market/category/6030.html\">トイレタリー・化粧品</a></li>,\n",
       " <li><a href=\"/web/market/category/7010.html\">銀行</a></li>,\n",
       " <li><a href=\"/web/market/category/7020.html\">証券・先物</a></li>,\n",
       " <li><a href=\"/web/market/category/7030.html\">リース・消費者金融</a></li>,\n",
       " <li><a href=\"/web/market/category/7040.html\">保険</a></li>,\n",
       " <li><a href=\"/web/market/category/7050.html\">金融サービス</a></li>,\n",
       " <li><a href=\"/web/market/category/8010.html\">エレクトロニクス</a></li>,\n",
       " <li><a href=\"/web/market/category/8020.html\">事務機器</a></li>,\n",
       " <li><a href=\"/web/market/category/8030.html\">電子デバイス製造装置</a></li>,\n",
       " <li><a href=\"/web/market/category/8040.html\">ソフトウエア・情報技術</a></li>,\n",
       " <li><a href=\"/web/market/category/8050.html\">通信サービス</a></li>,\n",
       " <li><a href=\"/web/market/category/8060.html\">メディア</a></li>]"
      ]
     },
     "execution_count": 19,
     "metadata": {},
     "output_type": "execute_result"
    }
   ],
   "source": [
    "li_tags = soup.find_all(\"li\")\n",
    "li_tags"
   ]
  },
  {
   "cell_type": "code",
   "execution_count": 29,
   "id": "cdfe5148",
   "metadata": {},
   "outputs": [
    {
     "data": {
      "text/plain": [
       "{'燃料・資源': '/web/market/category/1010.html',\n",
       " '化学': '/web/market/category/1020.html',\n",
       " '金属系素材': '/web/market/category/1030.html',\n",
       " '紙・パルプ製品・他素材': '/web/market/category/1040.html',\n",
       " '建設関連製品・設備': '/web/market/category/2010.html',\n",
       " '建設・不動産': '/web/market/category/2020.html',\n",
       " '機械・装置': '/web/market/category/2030.html',\n",
       " '総合商社': '/web/market/category/2040.html',\n",
       " '他産業サービス・製品': '/web/market/category/2060.html',\n",
       " '運輸': '/web/market/category/3010.html',\n",
       " '公共': '/web/market/category/3020.html',\n",
       " '自動車': '/web/market/category/4010.html',\n",
       " '住宅': '/web/market/category/4020.html',\n",
       " 'アパレル・娯楽用品': '/web/market/category/5010.html',\n",
       " '小売り': '/web/market/category/5020.html',\n",
       " '外食・娯楽サービス': '/web/market/category/5030.html',\n",
       " '他個人サービス・製品': '/web/market/category/5040.html',\n",
       " 'ヘルスケア・医薬': '/web/market/category/6010.html',\n",
       " '食品': '/web/market/category/6020.html',\n",
       " 'トイレタリー・化粧品': '/web/market/category/6030.html',\n",
       " '銀行': '/web/market/category/7010.html',\n",
       " '証券・先物': '/web/market/category/7020.html',\n",
       " 'リース・消費者金融': '/web/market/category/7030.html',\n",
       " '保険': '/web/market/category/7040.html',\n",
       " '金融サービス': '/web/market/category/7050.html',\n",
       " 'エレクトロニクス': '/web/market/category/8010.html',\n",
       " '事務機器': '/web/market/category/8020.html',\n",
       " '電子デバイス製造装置': '/web/market/category/8030.html',\n",
       " 'ソフトウエア・情報技術': '/web/market/category/8040.html',\n",
       " '通信サービス': '/web/market/category/8050.html',\n",
       " 'メディア': '/web/market/category/8060.html'}"
      ]
     },
     "execution_count": 29,
     "metadata": {},
     "output_type": "execute_result"
    }
   ],
   "source": [
    "mid_categories_link = dict()\n",
    "for tag in li_tags:\n",
    "    mid_categories_link[tag.select(\"a\")[0].text]  = tag.select(\"a\")[0].get(\"href\")\n",
    "mid_categories_link"
   ]
  },
  {
   "cell_type": "code",
   "execution_count": 45,
   "id": "39edd71b",
   "metadata": {},
   "outputs": [
    {
     "name": "stdout",
     "output_type": "stream",
     "text": [
      "燃料・資源\n",
      "https://member.rakuten-sec.co.jp/web/market/category/1010.html\n",
      "化学\n",
      "https://member.rakuten-sec.co.jp/web/market/category/1020.html\n",
      "金属系素材\n",
      "https://member.rakuten-sec.co.jp/web/market/category/1030.html\n",
      "紙・パルプ製品・他素材\n",
      "https://member.rakuten-sec.co.jp/web/market/category/1040.html\n",
      "建設関連製品・設備\n",
      "https://member.rakuten-sec.co.jp/web/market/category/2010.html\n",
      "建設・不動産\n",
      "https://member.rakuten-sec.co.jp/web/market/category/2020.html\n",
      "機械・装置\n",
      "https://member.rakuten-sec.co.jp/web/market/category/2030.html\n",
      "総合商社\n",
      "https://member.rakuten-sec.co.jp/web/market/category/2040.html\n",
      "他産業サービス・製品\n",
      "https://member.rakuten-sec.co.jp/web/market/category/2060.html\n",
      "運輸\n",
      "https://member.rakuten-sec.co.jp/web/market/category/3010.html\n",
      "公共\n",
      "https://member.rakuten-sec.co.jp/web/market/category/3020.html\n",
      "自動車\n",
      "https://member.rakuten-sec.co.jp/web/market/category/4010.html\n",
      "住宅\n",
      "https://member.rakuten-sec.co.jp/web/market/category/4020.html\n",
      "アパレル・娯楽用品\n",
      "https://member.rakuten-sec.co.jp/web/market/category/5010.html\n",
      "小売り\n",
      "https://member.rakuten-sec.co.jp/web/market/category/5020.html\n",
      "外食・娯楽サービス\n",
      "https://member.rakuten-sec.co.jp/web/market/category/5030.html\n",
      "他個人サービス・製品\n",
      "https://member.rakuten-sec.co.jp/web/market/category/5040.html\n",
      "ヘルスケア・医薬\n",
      "https://member.rakuten-sec.co.jp/web/market/category/6010.html\n",
      "食品\n",
      "https://member.rakuten-sec.co.jp/web/market/category/6020.html\n",
      "トイレタリー・化粧品\n",
      "https://member.rakuten-sec.co.jp/web/market/category/6030.html\n",
      "銀行\n",
      "https://member.rakuten-sec.co.jp/web/market/category/7010.html\n",
      "証券・先物\n",
      "https://member.rakuten-sec.co.jp/web/market/category/7020.html\n",
      "リース・消費者金融\n",
      "https://member.rakuten-sec.co.jp/web/market/category/7030.html\n",
      "保険\n",
      "https://member.rakuten-sec.co.jp/web/market/category/7040.html\n",
      "金融サービス\n",
      "https://member.rakuten-sec.co.jp/web/market/category/7050.html\n",
      "エレクトロニクス\n",
      "https://member.rakuten-sec.co.jp/web/market/category/8010.html\n",
      "事務機器\n",
      "https://member.rakuten-sec.co.jp/web/market/category/8020.html\n",
      "電子デバイス製造装置\n",
      "https://member.rakuten-sec.co.jp/web/market/category/8030.html\n",
      "ソフトウエア・情報技術\n",
      "https://member.rakuten-sec.co.jp/web/market/category/8040.html\n",
      "通信サービス\n",
      "https://member.rakuten-sec.co.jp/web/market/category/8050.html\n",
      "メディア\n",
      "https://member.rakuten-sec.co.jp/web/market/category/8060.html\n"
     ]
    }
   ],
   "source": [
    "dict_soup_category = dict()\n",
    "import time\n",
    "for key in list(mid_categories_link.keys()):\n",
    "    print(key)\n",
    "    category_url =  \"https://member.rakuten-sec.co.jp\" + mid_categories_link[key]\n",
    "    print(category_url)\n",
    "    response = request.urlopen(category_url)\n",
    "    dict_soup_category[key] = BeautifulSoup(response)\n",
    "    response.close()\n",
    "    time.sleep(1)"
   ]
  },
  {
   "cell_type": "code",
   "execution_count": 48,
   "id": "278ff5d4",
   "metadata": {},
   "outputs": [
    {
     "name": "stdout",
     "output_type": "stream",
     "text": [
      "<!DOCTYPE html PUBLIC \"-//W3C//DTD XHTML 1.0 Transitional//EN\" \"http://www.w3.org/TR/xhtml1/DTD/xhtml1-transitional.dtd\">\n",
      "\n",
      "<html xml:lang=\"ja\" xmlns=\"http://www.w3.org/1999/xhtml\">\n",
      "<head>\n",
      "<meta content=\"text/html; charset=utf-8\" http-equiv=\"Content-Type\"/>\n",
      "<meta content=\"text/css\" http-equiv=\"Content-Style-Type\"/>\n",
      "<meta content=\"text/javascript\" http-equiv=\"Content-Script-Type\"/>\n",
      "<meta content=\"楽天証券株式会社\" name=\"author\"/>\n",
      "<meta content=\"index, follow\" name=\"robots\"/>\n",
      "<meta content=\"燃料・資源,業種分類データ,カテゴリ,詳細分類,東洋経済,楽天証券\" name=\"keywords\"/>\n",
      "<meta content=\"業種分類スクリーニングは、約480業種と極めて詳細なカテゴリのもと、最大収益事業を基準に分類しているため、より実勢に沿ったカテゴリ検索ができます。\" name=\"description\"/>\n",
      "<meta content=\"Rakuten Securities, Inc. All Rights Reserved.\" name=\"copyright\"/>\n",
      "<title>燃料・資源の一覧 | 業種検索 | マーケット情報 | 楽天証券</title>\n",
      "<link href=\"/\" rel=\"start\" type=\"text/html\"/>\n",
      "<link href=\"/web/shared/css/import.css\" media=\"screen, print\" rel=\"stylesheet\" type=\"text/css\"/>\n",
      "<link href=\"/web/shared/css/font-m.css\" media=\"screen\" rel=\"stylesheet\" title=\"font-m\" type=\"text/css\"/>\n",
      "<link href=\"/web/shared/css/font-s.css\" media=\"screen\" rel=\"alternate stylesheet\" title=\"font-s\" type=\"text/css\"/>\n",
      "<link href=\"/web/shared/css/font-l.css\" media=\"screen\" rel=\"alternate stylesheet\" title=\"font-l\" type=\"text/css\"/>\n",
      "<link href=\"/web/shared/css/import-print.css\" media=\"print\" rel=\"stylesheet\" type=\"text/css\"/>\n",
      "<script src=\"/web/shared/js/jquery.js\" type=\"text/javascript\"></script>\n",
      "<script src=\"/web/shared/js/jquery.cookie.js\" type=\"text/javascript\"></script>\n",
      "<script src=\"/web/shared/js/run.js\" type=\"text/javascript\"></script>\n",
      "</head>\n",
      "<body class=\"lyt-column-ms-01\">\n",
      "<div id=\"str-container\">\n",
      "<!-- ============ヘッダ============ -->\n",
      "<!--#include virtual=\"/web/shared/include/grpheader/grpheader.html\" -->\n",
      "<!-- ============/ヘッダ============ -->\n",
      "<!-- ============グローバルナビゲーション============ -->\n",
      "<!--#include virtual=\"/web/shared/include/nav-global/market.html\" -->\n",
      "<!-- ============/グローバルナビゲーション============ -->\n",
      "<!-- ============検索エリア============ -->\n",
      "<!--#include virtual=\"/web/shared/include/str-search/str-search.html\" -->\n",
      "<!-- ============/検索エリア============ -->\n",
      "<div id=\"str-contents\">\n",
      "<dl id=\"topic-path\">\n",
      "<dt>現在地</dt>\n",
      "<dd><a href=\"https://www.rakuten-sec.co.jp/\">ホーム</a> &gt; <a href=\"/web/market/\">マーケット情報</a> &gt; <a href=\"/web/market/category/\">業種分類スクリーニング</a> &gt; 燃料・資源の一覧</dd>\n",
      "</dl>\n",
      "<div id=\"str-contents-inner\">\n",
      "<div id=\"str-main\">\n",
      "<div class=\"hdg-l1-01-container\">\n",
      "<h1 class=\"hdg-l1-01\"><span>業種分類スクリーニング　燃料・資源の一覧</span></h1>\n",
      "</div><!-- /.hdg-l1-01-container -->\n",
      "<div class=\"lyt-image image-col1-full\">\n",
      "<p class=\"image\"><img alt=\"業種分類スクリーニング\" height=\"120\" src=\"/web/market/category/images/index-main.jpg\" width=\"755\"/></p>\n",
      "</div><!-- /.lyt-image -->\n",
      "<p>証券取引所が定める業種分類（33業種）と比べて、東洋経済の業種分類データは、約480業種と極めて詳細なカテゴリのもと、最大収益事業を基準に分類しているため、より実勢に沿ったカテゴリ検索ができます。トレンドやテーマに関連した銘柄をスピーディーにチェック！</p>\n",
      "<!-- new category low list start --><h2 class=\"hdg-l2-03\"><span>燃料・資源</span></h2><ul class=\"list-link-01 list-col2\"><li><a href=\"/web/market/category/1010100001.html\">ＬＰガス関連設備機器</a></li><li><a href=\"/web/market/category/1010100002.html\">ＬＰガス販売</a></li><li><a href=\"/web/market/category/1010100003.html\">ガソリンスタンド</a></li><li><a href=\"/web/market/category/1010100004.html\">原油・天然ガス開発</a></li><li><a href=\"/web/market/category/1010100005.html\">資源</a></li><li><a href=\"/web/market/category/1010100006.html\">省エネ</a></li><li><a href=\"/web/market/category/1010100007.html\">石油・ガス生産貯蔵設備</a></li><li><a href=\"/web/market/category/1010100008.html\">石油精製</a></li><li><a href=\"/web/market/category/1010100009.html\">燃料</a></li><li><a href=\"/web/market/category/1010100010.html\">燃料商社</a></li><li><a href=\"/web/market/category/1010100011.html\">燃料輸送</a></li></ul><!-- new category low list end -->\n",
      "</div><!-- /#str-main -->\n",
      "</div><!-- /#str-contents-inner -->\n",
      "<div id=\"str-sub-common\">\n",
      "<!--#include virtual=\"/web/shared/include/str-sub-common/str-sub-common-03.html\" -->\n",
      "</div><!-- /#str-sub-common -->\n",
      "</div><!-- /#str-contents -->\n",
      "<!-- ============フッタ============ -->\n",
      "<!--#include virtual=\"/web/shared/include/str-footer/str-footer.html\" -->\n",
      "<!-- ============/フッタ============ -->\n",
      "</div><!-- /#str-container -->\n",
      "<!-- ============ログ解析============ -->\n",
      "<!--#include virtual=\"/web/shared/include/analysis/analysis-sitecatalyst.html\" -->\n",
      "<!--#include virtual=\"/web/shared/include/analysis/analysis-mebius.html\" -->\n",
      "<!-- ============/ログ解析============ -->\n",
      "</body>\n",
      "</html>\n",
      "\n"
     ]
    }
   ],
   "source": [
    "for key in list(dict_soup_category.keys())[:1]:\n",
    "    soup_cat = dict_soup_category[key]\n",
    "\n",
    "print(soup_cat)"
   ]
  },
  {
   "cell_type": "code",
   "execution_count": 50,
   "id": "c0e60063",
   "metadata": {},
   "outputs": [],
   "source": [
    "import pandas as pd"
   ]
  },
  {
   "cell_type": "code",
   "execution_count": 57,
   "id": "ac9e47d3",
   "metadata": {},
   "outputs": [
    {
     "data": {
      "text/plain": [
       "482"
      ]
     },
     "execution_count": 57,
     "metadata": {},
     "output_type": "execute_result"
    }
   ],
   "source": [
    "sub_category_list = []\n",
    "for key in list(dict_soup_category.keys()):\n",
    "    sub_categories_link = dict()\n",
    "    soup_cat = dict_soup_category[key]\n",
    "    li_tags_cat = soup_cat.find_all(\"li\")\n",
    "    for tag in li_tags_cat: \n",
    "        sub_category_list.append([key, tag.select(\"a\")[0].text, \"https://member.rakuten-sec.co.jp\" + tag.select(\"a\")[0].get(\"href\")])\n",
    "sub_category_list\n",
    "len(sub_category_list)"
   ]
  },
  {
   "cell_type": "code",
   "execution_count": 58,
   "id": "10fd453c",
   "metadata": {},
   "outputs": [],
   "source": [
    "import csv"
   ]
  },
  {
   "cell_type": "code",
   "execution_count": 63,
   "id": "5c00486f",
   "metadata": {},
   "outputs": [],
   "source": [
    "with open(r\"C:\\temp\\industry_category_list.csv\", \"w\", newline=\"\") as f:\n",
    "    writer = csv.writer(f)\n",
    "    writer.writerow([\"中分類\", \"小分類\", \"URL\"])\n",
    "    writer.writerows(sub_category_list) "
   ]
  }
 ],
 "metadata": {
  "kernelspec": {
   "display_name": "Python 3 (ipykernel)",
   "language": "python",
   "name": "python3"
  },
  "language_info": {
   "codemirror_mode": {
    "name": "ipython",
    "version": 3
   },
   "file_extension": ".py",
   "mimetype": "text/x-python",
   "name": "python",
   "nbconvert_exporter": "python",
   "pygments_lexer": "ipython3",
   "version": "3.8.10"
  }
 },
 "nbformat": 4,
 "nbformat_minor": 5
}
